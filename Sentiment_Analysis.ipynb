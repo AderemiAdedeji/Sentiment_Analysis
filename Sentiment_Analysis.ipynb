{
  "nbformat": 4,
  "nbformat_minor": 0,
  "metadata": {
    "colab": {
      "provenance": []
    },
    "kernelspec": {
      "name": "python3",
      "display_name": "Python 3"
    },
    "language_info": {
      "name": "python"
    }
  },
  "cells": [
    {
      "cell_type": "markdown",
      "source": [
        "## SENTIMENT ANALYSIS"
      ],
      "metadata": {
        "id": "IuS7nyE2hoD_"
      }
    },
    {
      "cell_type": "code",
      "execution_count": null,
      "metadata": {
        "id": "eroATDn7hAuR"
      },
      "outputs": [],
      "source": [
        "import pandas as pd\n",
        "from textblob import TextBlob\n"
      ]
    },
    {
      "cell_type": "code",
      "source": [
        "# Load the data\n",
        "preprocessed_twitter_tweets = pd.read_csv(\"preprocessed_twitter_tweets.csv\")\n",
        "preprocessed_reddit_posts = pd.read_csv(\"preprocessed_reddit_posts.csv\")"
      ],
      "metadata": {
        "id": "r4VbC0WWcE8v"
      },
      "execution_count": null,
      "outputs": []
    },
    {
      "cell_type": "code",
      "source": [
        "# combine the text column for both datasets\n",
        "merged_df1 = pd.merge(preprocessed_reddit_posts, preprocessed_twitter_tweets, suffixes=('reddit', 'twitter'))\n",
        "merged_df1['combined_text'] = merged_df1['title'] + ' ' + merged_df1['body'] + ' ' + merged_df1['tweet_text']"
      ],
      "metadata": {
        "id": "q3oRnE7HcMoR"
      },
      "execution_count": null,
      "outputs": []
    },
    {
      "cell_type": "code",
      "source": [
        "# Add sentiment scores to the dataframe\n",
        "merged_df1['sentiment'] = merged_df1['combined_text'].apply(lambda text: TextBlob(text).sentiment.polarity)"
      ],
      "metadata": {
        "id": "QLP1vfoLcQf-"
      },
      "execution_count": null,
      "outputs": []
    },
    {
      "cell_type": "code",
      "source": [
        "# Classify sentiment as positive, negative or neutral\n",
        "merged_df1['sentiment_class'] = merged_df1['sentiment'].apply(lambda score: 'positive' if score > 0 else 'negative' if score < 0 else 'neutral')\n",
        "\n",
        "\n",
        "# convert the created_utc column to datetime and extract the date\n",
        "preprocessed_reddit_posts['date'] = pd.to_datetime(preprocessed_reddit_posts['created_utc']).dt.date\n",
        "preprocessed_twitter_tweets['date'] = pd.to_datetime(preprocessed_twitter_tweets['created_at']).dt.date\n",
        "\n",
        "# merge the two datasets on the date column\n",
        "merged_df1 = pd.merge(preprocessed_reddit_posts, preprocessed_twitter_tweets, on='date', suffixes=('_reddit', '_twitter'))\n",
        "\n",
        "# combine the text columns from both datasets\n",
        "merged_df1['merged_df'] = merged_df1['title'] + ' ' + merged_df1['body'] + ' '+ merged_df1['tweet_text']\n",
        "\n",
        "# Add sentiment scores to the dataframe\n",
        "merged_df1['sentiment'] = merged_df1['merged_df'].apply(lambda text: TextBlob(text).sentiment.polarity)\n",
        "\n",
        "# Print the first 5 rows of the dataframe with sentiment scores\n",
        "merged_df1.head()"
      ],
      "metadata": {
        "id": "mhNe8AO1cWW7"
      },
      "execution_count": null,
      "outputs": []
    },
    {
      "cell_type": "code",
      "source": [
        "# Classify sentiment as positive, negative or neutral\n",
        "merged_df1['sentiment_class'] = merged_df1['sentiment'].apply(lambda score: 'positive' if score > 0 else 'negative' if score < 0 else 'neutral')\n",
        "\n",
        "# Calculate percentage of positive, negative, and neutral sentiments\n",
        "num_positive = len(merged_df1[merged_df1['sentiment_class'] == 'positive'])\n",
        "num_negative = len(merged_df1[merged_df1['sentiment_class'] == 'negative'])\n",
        "num_neutral = len(merged_df1[merged_df1['sentiment_class'] == 'neutral'])\n",
        "\n",
        "total = num_positive + num_negative + num_neutral\n",
        "\n",
        "percent_positive = (num_positive / total) * 100\n",
        "percent_negative = (num_negative / total) * 100\n",
        "percent_neutral = (num_neutral / total) * 100\n",
        "\n",
        "print(f\"Percentage of positive sentiments: {percent_positive:.2f}%\")\n",
        "print(f\"Percentage of negative sentiments: {percent_negative:.2f}%\")\n",
        "print(f\"Percentage of neutral sentiments: {percent_neutral:.2f}%\")\n"
      ],
      "metadata": {
        "id": "RgBnkmsdhINB"
      },
      "execution_count": null,
      "outputs": []
    },
    {
      "cell_type": "code",
      "source": [
        "# save the merged dataset to a new file\n",
        "merged_df1.to_csv('sentiment_analysis.csv', index=False)"
      ],
      "metadata": {
        "id": "e-hN2w7DcjF3"
      },
      "execution_count": null,
      "outputs": []
    },
    {
      "cell_type": "code",
      "source": [
        "import matplotlib.pyplot as plt\n",
        "\n",
        "# Count the number of observations in each sentiment class\n",
        "sentiment_counts = merged_df1['sentiment_class'].value_counts()\n",
        "\n",
        "# Plot a bar chart of the sentiment counts\n",
        "plt.bar(sentiment_counts.index, sentiment_counts.values)\n",
        "plt.title('Sentiment distribution')\n",
        "plt.xlabel('Sentiment class')\n",
        "plt.ylabel('Number of observations')\n",
        "plt.show()\n"
      ],
      "metadata": {
        "id": "nA2iIpFehgBS"
      },
      "execution_count": null,
      "outputs": []
    },
    {
      "cell_type": "code",
      "source": [
        "# Plot a histogram of the sentiment scores\n",
        "plt.hist(merged_df1['sentiment'], bins=20)\n",
        "plt.title('Sentiment score distribution')\n",
        "plt.xlabel('Sentiment score')\n",
        "plt.ylabel('Number of observations')\n",
        "plt.show()\n"
      ],
      "metadata": {
        "id": "tbUrNB5DhhPo"
      },
      "execution_count": null,
      "outputs": []
    },
    {
      "cell_type": "code",
      "source": [
        "import seaborn as sns\n",
        "# Create a new column with the length of the combined text\n",
        "merged_df1['text_length'] = merged_df1['combined_text'].apply(len)\n",
        "\n",
        "# Plot a scatter plot of sentiment score vs text length\n",
        "sns.scatterplot(x='text_length', y='sentiment', data=merged_df1)\n",
        "plt.title('Sentiment score vs text length')\n",
        "plt.xlabel('Text length')\n",
        "plt.ylabel('Sentiment score')\n",
        "plt.show()\n"
      ],
      "metadata": {
        "id": "S08KbCYBhjW8"
      },
      "execution_count": null,
      "outputs": []
    },
    {
      "cell_type": "code",
      "source": [
        "from wordcloud import WordCloud\n",
        "import matplotlib.pyplot as plt\n",
        "from palettable.colorbrewer.qualitative import Dark2_8\n",
        "\n",
        "# Combine all the text with positive sentiment into a single string\n",
        "positive_text = ' '.join(merged_df1.loc[merged_df1['sentiment_class'] == 'positive', 'combined_text'])\n",
        "positive_text = positive_text.replace(\"'\", \"\") # remove apostrophes\n",
        "\n",
        "# Generate the positive sentiment wordcloud\n",
        "positive_wordcloud = WordCloud(width=1200, height=800, background_color='white', colormap=Dark2_8.mpl_colormap).generate(positive_text)\n",
        "\n",
        "# Combine all the text with negative sentiment into a single string\n",
        "negative_text = ' '.join(merged_df1.loc[merged_df1['sentiment_class'] == 'negative', 'combined_text'])\n",
        "negative_text = negative_text.replace(\"'\", \"\") # remove apostrophes\n",
        "\n",
        "# Generate the negative sentiment wordcloud\n",
        "negative_wordcloud = WordCloud(width=1200, height=800, background_color='white', colormap=Dark2_8.mpl_colormap).generate(negative_text)\n"
      ],
      "metadata": {
        "id": "9TJTDCQThlGR"
      },
      "execution_count": null,
      "outputs": []
    },
    {
      "cell_type": "code",
      "source": [
        "# Display the positive sentiment wordcloud\n",
        "plt.figure(figsize=(8, 8), facecolor=None)\n",
        "plt.imshow(positive_wordcloud)\n",
        "plt.axis(\"off\")\n",
        "plt.tight_layout(pad=0)\n",
        "plt.show()\n"
      ],
      "metadata": {
        "id": "0cNTH8cahsS_"
      },
      "execution_count": null,
      "outputs": []
    },
    {
      "cell_type": "code",
      "source": [
        "# Display the negative sentiment wordcloud\n",
        "plt.figure(figsize=(8, 8), facecolor=None)\n",
        "plt.imshow(negative_wordcloud)\n",
        "plt.axis(\"off\")\n",
        "plt.tight_layout(pad=0)\n",
        "plt.show()"
      ],
      "metadata": {
        "id": "-wV7oCpbhu4E"
      },
      "execution_count": null,
      "outputs": []
    }
  ]
}